{
 "cells": [
  {
   "cell_type": "code",
   "execution_count": 6,
   "id": "dc7b1427",
   "metadata": {},
   "outputs": [],
   "source": [
    "import pandas as pd\n",
    "import numpy as np\n",
    "import matplotlib.pyplot as plt\n",
    "import os"
   ]
  },
  {
   "cell_type": "markdown",
   "id": "cb0e72d6",
   "metadata": {},
   "source": [
    "## Random Adversial Evolution"
   ]
  },
  {
   "cell_type": "markdown",
   "id": "da89353e",
   "metadata": {},
   "source": [
    "### Simple Model"
   ]
  },
  {
   "cell_type": "code",
   "execution_count": null,
   "id": "28996e82",
   "metadata": {},
   "outputs": [],
   "source": [
    "simple_adv_df = pd.read_csv('')"
   ]
  },
  {
   "cell_type": "code",
   "execution_count": 7,
   "id": "ef22a9ef",
   "metadata": {},
   "outputs": [
    {
     "data": {
      "text/plain": [
       "['.git',\n",
       " '.gitignore',\n",
       " '.ipynb_checkpoints',\n",
       " '.vscode',\n",
       " 'bracket_on_complex_model',\n",
       " 'bracket_on_simple_model',\n",
       " 'complex_models',\n",
       " 'friendly_on_complex_model',\n",
       " 'friendly_on_simple_model',\n",
       " 'ga_saved_agents_gens',\n",
       " 'ga_saved_agents_gens_complex',\n",
       " 'ga_stats',\n",
       " 'multi-model-Tourney.py',\n",
       " 'myFastSlimeAgent.py',\n",
       " 'README.md',\n",
       " 'simple_models',\n",
       " 'slimeTourney.py',\n",
       " 'stats.csv',\n",
       " 'stats1.csv',\n",
       " 'test_models.py',\n",
       " 'train_ga_modified.py',\n",
       " 'Untitled.ipynb',\n",
       " '__pycache__']"
      ]
     },
     "execution_count": 7,
     "metadata": {},
     "output_type": "execute_result"
    }
   ],
   "source": [
    "os.listdir()"
   ]
  },
  {
   "cell_type": "code",
   "execution_count": null,
   "id": "da307f45",
   "metadata": {},
   "outputs": [],
   "source": []
  },
  {
   "cell_type": "code",
   "execution_count": null,
   "id": "ef15c4b4",
   "metadata": {},
   "outputs": [],
   "source": []
  },
  {
   "cell_type": "markdown",
   "id": "01ee0e1c",
   "metadata": {},
   "source": [
    "### Complex Model"
   ]
  },
  {
   "cell_type": "code",
   "execution_count": null,
   "id": "947012c6",
   "metadata": {},
   "outputs": [],
   "source": []
  }
 ],
 "metadata": {
  "kernelspec": {
   "display_name": "Python 3",
   "language": "python",
   "name": "python3"
  },
  "language_info": {
   "codemirror_mode": {
    "name": "ipython",
    "version": 3
   },
   "file_extension": ".py",
   "mimetype": "text/x-python",
   "name": "python",
   "nbconvert_exporter": "python",
   "pygments_lexer": "ipython3",
   "version": "3.7.10"
  }
 },
 "nbformat": 4,
 "nbformat_minor": 5
}
